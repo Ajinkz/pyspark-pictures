{
 "metadata": {
  "name": "",
  "signature": "sha256:94bd0b7c714edf5401a79948663d892280091de689b58af0055ad701ff3e53c8"
 },
 "nbformat": 3,
 "nbformat_minor": 0,
 "worksheets": [
  {
   "cells": [
    {
     "cell_type": "heading",
     "level": 1,
     "metadata": {},
     "source": [
      "pyspark visual API"
     ]
    },
    {
     "cell_type": "markdown",
     "metadata": {},
     "source": [
      "<a href=\"https://spark.apache.org/docs/1.1.0/api/python/pyspark.rdd.RDD-class.html#map\">\n",
      "<img align=left src=\"files/images/pyspark-page1.svg\" width=500 height=250 />\n",
      "</a>"
     ]
    },
    {
     "cell_type": "code",
     "collapsed": false,
     "input": [
      "x = sc.parallelize([1,2,3])\n",
      "y = x.map(lambda x: (x,x**2))\n",
      "print(x.collect())\n",
      "print(y.collect())"
     ],
     "language": "python",
     "metadata": {},
     "outputs": [
      {
       "output_type": "stream",
       "stream": "stdout",
       "text": [
        "[1, 2, 3]\n",
        "[(1, 1), (2, 4), (3, 9)]"
       ]
      },
      {
       "output_type": "stream",
       "stream": "stdout",
       "text": [
        "\n"
       ]
      }
     ],
     "prompt_number": 17
    },
    {
     "cell_type": "markdown",
     "metadata": {},
     "source": [
      "<a href=\"https://spark.apache.org/docs/1.1.0/api/python/pyspark.rdd.RDD-class.html#flatMap\">\n",
      "<img align=left src=\"files/images/pyspark-page2.svg\" width=500 height=500 />\n",
      "</a>"
     ]
    },
    {
     "cell_type": "code",
     "collapsed": false,
     "input": [
      "x = sc.parallelize([1,2,3])\n",
      "print(x.flatMap(lambda x: (x,x**2)).collect())"
     ],
     "language": "python",
     "metadata": {},
     "outputs": [
      {
       "output_type": "stream",
       "stream": "stdout",
       "text": [
        "[1, 1, 2, 4, 3, 9]\n"
       ]
      }
     ],
     "prompt_number": 12
    },
    {
     "cell_type": "markdown",
     "metadata": {},
     "source": [
      "<a href=\"https://spark.apache.org/docs/1.1.0/api/python/pyspark.rdd.RDD-class.html#flatMap\">\n",
      "<img align=left src=\"files/images/pyspark-page3.svg\" width=500 height=500 />\n",
      "</a>"
     ]
    },
    {
     "cell_type": "markdown",
     "metadata": {},
     "source": [
      "<a href=\"https://spark.apache.org/docs/1.1.0/api/python/pyspark.rdd.RDD-class.html#flatMap\">\n",
      "<img align=left src=\"files/images/pyspark-page4.svg\" width=500 height=500 />\n",
      "</a>"
     ]
    },
    {
     "cell_type": "markdown",
     "metadata": {},
     "source": [
      "<a href=\"https://spark.apache.org/docs/1.1.0/api/python/pyspark.rdd.RDD-class.html#flatMap\">\n",
      "<img align=left src=\"files/images/pyspark-page5.svg\" width=500 height=500 />\n",
      "</a>"
     ]
    },
    {
     "cell_type": "markdown",
     "metadata": {},
     "source": [
      "<a href=\"https://spark.apache.org/docs/1.1.0/api/python/pyspark.rdd.RDD-class.html#flatMap\">\n",
      "<img align=left src=\"files/images/pyspark-page6.svg\" width=500 height=500 />\n",
      "</a>"
     ]
    },
    {
     "cell_type": "markdown",
     "metadata": {},
     "source": [
      "<a href=\"https://spark.apache.org/docs/1.1.0/api/python/pyspark.rdd.RDD-class.html#flatMap\">\n",
      "<img align=left src=\"files/images/pyspark-page7.svg\" width=500 height=500 />\n",
      "</a>"
     ]
    },
    {
     "cell_type": "markdown",
     "metadata": {},
     "source": [
      "<a href=\"https://spark.apache.org/docs/1.1.0/api/python/pyspark.rdd.RDD-class.html#flatMap\">\n",
      "<img align=left src=\"files/images/pyspark-page8.svg\" width=500 height=500 />\n",
      "</a>"
     ]
    },
    {
     "cell_type": "markdown",
     "metadata": {},
     "source": [
      "<a href=\"https://spark.apache.org/docs/1.1.0/api/python/pyspark.rdd.RDD-class.html#flatMap\">\n",
      "<img align=left src=\"files/images/pyspark-page9.svg\" width=500 height=500 />\n",
      "</a>"
     ]
    },
    {
     "cell_type": "markdown",
     "metadata": {},
     "source": [
      "<a href=\"https://spark.apache.org/docs/1.1.0/api/python/pyspark.rdd.RDD-class.html#flatMap\">\n",
      "<img align=left src=\"files/images/pyspark-page10.svg\" width=500 height=500 />\n",
      "</a>"
     ]
    },
    {
     "cell_type": "markdown",
     "metadata": {},
     "source": [
      "<a href=\"https://spark.apache.org/docs/1.1.0/api/python/pyspark.rdd.RDD-class.html#flatMap\">\n",
      "<img align=left src=\"files/images/pyspark-page11.svg\" width=500 height=500 />\n",
      "</a>"
     ]
    },
    {
     "cell_type": "markdown",
     "metadata": {},
     "source": [
      "<a href=\"https://spark.apache.org/docs/1.1.0/api/python/pyspark.rdd.RDD-class.html#flatMap\">\n",
      "<img align=left src=\"files/images/pyspark-page12.svg\" width=500 height=500 />\n",
      "</a>"
     ]
    },
    {
     "cell_type": "markdown",
     "metadata": {},
     "source": [
      "<a href=\"https://spark.apache.org/docs/1.1.0/api/python/pyspark.rdd.RDD-class.html#flatMap\">\n",
      "<img align=left src=\"files/images/pyspark-page13.svg\" width=500 height=500 />\n",
      "</a>"
     ]
    },
    {
     "cell_type": "markdown",
     "metadata": {},
     "source": [
      "<a href=\"https://spark.apache.org/docs/1.1.0/api/python/pyspark.rdd.RDD-class.html#flatMap\">\n",
      "<img align=left src=\"files/images/pyspark-page14.svg\" width=500 height=500 />\n",
      "</a>"
     ]
    },
    {
     "cell_type": "markdown",
     "metadata": {},
     "source": [
      "<a href=\"https://spark.apache.org/docs/1.1.0/api/python/pyspark.rdd.RDD-class.html#flatMap\">\n",
      "<img align=left src=\"files/images/pyspark-page15.svg\" width=500 height=500 />\n",
      "</a>"
     ]
    },
    {
     "cell_type": "markdown",
     "metadata": {},
     "source": []
    },
    {
     "cell_type": "markdown",
     "metadata": {},
     "source": []
    },
    {
     "cell_type": "markdown",
     "metadata": {},
     "source": []
    },
    {
     "cell_type": "markdown",
     "metadata": {},
     "source": []
    },
    {
     "cell_type": "markdown",
     "metadata": {},
     "source": []
    },
    {
     "cell_type": "markdown",
     "metadata": {},
     "source": []
    },
    {
     "cell_type": "markdown",
     "metadata": {},
     "source": []
    },
    {
     "cell_type": "markdown",
     "metadata": {},
     "source": []
    },
    {
     "cell_type": "code",
     "collapsed": false,
     "input": [
      "x = sc.parallelize([(\"a\", (1,1)), (\"a\", 2), (\"b\", (3,3)), (\"c\", 4)])\n",
      "y = sc.parallelize([(\"d\", (5,5)), (\"a\", 6), (\"b\", 7), (\"a\", 8)])\n",
      "z = x.cogroup(y).collect()\n",
      "print(z)\n",
      "print(z[0])\n",
      "print(z[1])\n",
      "print(z[0][0])\n",
      "print(z[0][1])\n",
      "\n",
      "# z[which key?][key or value?][x or y?].data\n",
      "\n",
      "for el in z:\n",
      "    key = el[0]\n",
      "    xval = el[1][0]\n",
      "    yval = el[1][1]\n",
      "    print(\"key: \" + str(key))\n",
      "    print(\"x vals: \" + str(xval.data))\n",
      "    print(\"y vals: \" + str(yval.data))\n",
      "    \n",
      "ztest = x.cogroup(y)\n",
      "print(\"debug string: \" + ztest.toDebugString())"
     ],
     "language": "python",
     "metadata": {},
     "outputs": [
      {
       "output_type": "stream",
       "stream": "stdout",
       "text": [
        "[('a', (<pyspark.resultiterable.ResultIterable object at 0x7f26a5128210>, <pyspark.resultiterable.ResultIterable object at 0x7f26a5128250>)), ('c', (<pyspark.resultiterable.ResultIterable object at 0x7f26a5128290>, <pyspark.resultiterable.ResultIterable object at 0x7f26a51282d0>)), ('b', (<pyspark.resultiterable.ResultIterable object at 0x7f26a5128310>, <pyspark.resultiterable.ResultIterable object at 0x7f26a5128350>)), ('d', (<pyspark.resultiterable.ResultIterable object at 0x7f26a5128390>, <pyspark.resultiterable.ResultIterable object at 0x7f26a51283d0>))]\n",
        "('a', (<pyspark.resultiterable.ResultIterable object at 0x7f26a5128210>, <pyspark.resultiterable.ResultIterable object at 0x7f26a5128250>))\n",
        "('c', (<pyspark.resultiterable.ResultIterable object at 0x7f26a5128290>, <pyspark.resultiterable.ResultIterable object at 0x7f26a51282d0>))\n",
        "a\n",
        "(<pyspark.resultiterable.ResultIterable object at 0x7f26a5128210>, <pyspark.resultiterable.ResultIterable object at 0x7f26a5128250>)\n",
        "key: a\n",
        "x vals: [(1, 1), 2]\n",
        "y vals: [6, 8]\n",
        "key: c\n",
        "x vals: [4]\n",
        "y vals: []\n",
        "key: b\n",
        "x vals: [(3, 3)]\n",
        "y vals: [7]\n",
        "key: d\n",
        "x vals: []\n",
        "y vals: [(5, 5)]\n",
        "debug string: (8) PythonRDD[33] at RDD at PythonRDD.scala:43 []\n",
        " |  MappedRDD[32] at values at NativeMethodAccessorImpl.java:-2 []\n",
        " |  ShuffledRDD[31] at partitionBy at NativeMethodAccessorImpl.java:-2 []\n",
        " +-(8) PairwiseRDD[30] at cogroup at <ipython-input-13-e5dd5a652725>:20 []\n",
        "    |  PythonRDD[29] at cogroup at <ipython-input-13-e5dd5a652725>:20 []\n",
        "    |  UnionRDD[28] at union at NativeMethodAccessorImpl.java:-2 []\n",
        "    |  PythonRDD[26] at RDD at PythonRDD.scala:43 []\n",
        "    |  ParallelCollectionRDD[16] at parallelize at PythonRDD.scala:364 []\n",
        "    |  PythonRDD[27] at RDD at PythonRDD.scala:43 []\n",
        "    |  ParallelCollectionRDD[17] at parallelize at PythonRDD.scala:364 []"
       ]
      },
      {
       "output_type": "stream",
       "stream": "stdout",
       "text": [
        "\n"
       ]
      }
     ],
     "prompt_number": 13
    },
    {
     "cell_type": "code",
     "collapsed": false,
     "input": [
      "x = sc.parallelize([(\"a\", (1,1)), (\"a\", 2), (\"b\", (3,3)), (\"c\", 4)])\n",
      "y = sc.parallelize([(\"d\", (5,5)), (\"a\", (3,3)), (\"b\", (3,3)), (\"a\", 8)])\n",
      "print(x.subtract(y).collect())\n"
     ],
     "language": "python",
     "metadata": {},
     "outputs": [
      {
       "output_type": "stream",
       "stream": "stdout",
       "text": [
        "[('a', 2), ('c', 4), ('a', (1, 1))]\n"
       ]
      }
     ],
     "prompt_number": 14
    },
    {
     "cell_type": "code",
     "collapsed": false,
     "input": [
      "x = sc.parallelize(range(10))\n",
      "print(x.collect())\n",
      "print(x.keyBy(lambda x: x**2).collect())"
     ],
     "language": "python",
     "metadata": {},
     "outputs": [
      {
       "output_type": "stream",
       "stream": "stdout",
       "text": [
        "[0, 1, 2, 3, 4, 5, 6, 7, 8, 9]\n",
        "[(0, 0), (1, 1), (4, 2), (9, 3), (16, 4), (25, 5), (36, 6), (49, 7), (64, 8), (81, 9)]"
       ]
      },
      {
       "output_type": "stream",
       "stream": "stdout",
       "text": [
        "\n"
       ]
      }
     ],
     "prompt_number": 15
    },
    {
     "cell_type": "code",
     "collapsed": false,
     "input": [],
     "language": "python",
     "metadata": {},
     "outputs": [],
     "prompt_number": 15
    }
   ],
   "metadata": {}
  }
 ]
}